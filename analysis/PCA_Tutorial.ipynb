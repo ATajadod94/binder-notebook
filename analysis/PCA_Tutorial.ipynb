{
 "cells": [
  {
   "cell_type": "markdown",
   "metadata": {},
   "source": [
    "# PCA Tutorial\n",
    "Author: [Kathleen Clark](https://becksteinlab.physics.asu.edu/people/75/kathleen-clark) ([@kaceyreidy](https://github.com/kaceyreidy))"
   ]
  },
  {
   "cell_type": "markdown",
   "metadata": {},
   "source": [
    "Principal component analysis (PCA) is a method of converting one corrdinate system into another where the data as represented by the resulting coordinate system is uncorrelated. The resulting coordinates are ordered such that the first principal component (coordinate axis) accounts for the most variation in the data, the second prinicpal component accounts for the most variation that it can while being perpendicular to the first, and so on. ([Wikipedia](https://en.wikipedia.org/wiki/Principal_component_analysis))\n",
    "\n",
    "In this tutorial we use [MDAnalysis](https://mdanalysis.org) to show how to use PCA to analyze and visualize large macromolecular conformational changes. As example we use the closed -> open transition of the enzyme adenylate kinase (AdK). The AdK trajectory is included with the MDAnalysis test data."
   ]
  },
  {
   "cell_type": "markdown",
   "metadata": {},
   "source": [
    "## Conducting PCA"
   ]
  },
  {
   "cell_type": "markdown",
   "metadata": {},
   "source": [
    "First let's import all of the necessary modules."
   ]
  },
  {
   "cell_type": "code",
   "execution_count": 1,
   "metadata": {
    "scrolled": false
   },
   "outputs": [],
   "source": [
    "import MDAnalysis as mda\n",
    "import MDAnalysis.analysis.pca as pca\n",
    "from MDAnalysis.coordinates.base import Timestep\n",
    "from MDAnalysisTests.datafiles import PSF, DCD\n",
    "\n",
    "import numpy as np\n",
    "import os\n",
    "import glob\n",
    "\n",
    "import pandas as pd\n",
    "import seaborn as sns\n",
    "\n",
    "import matplotlib.pyplot as plt\n",
    "import matplotlib.cm\n",
    "import matplotlib.ticker as ticker\n",
    "%matplotlib inline"
   ]
  },
  {
   "cell_type": "markdown",
   "metadata": {},
   "source": [
    "Now, let's define our paths and some our analysis preferences.\n",
    "\n",
    "- save data in the _PCA_tutorial_ directory\n",
    "- use the protein backbone atoms for the analysis (selection \"backbone\")\n",
    "- analyze every step in the trajectory\n",
    "- visualize the first 5 principal components (`npc = 5`)"
   ]
  },
  {
   "cell_type": "code",
   "execution_count": 2,
   "metadata": {},
   "outputs": [],
   "source": [
    "datapath = os.path.join('PCA_tutorial', 'AdK')\n",
    "selection = 'backbone'\n",
    "stepsize = 1\n",
    "npc = 5\n",
    "\n",
    "\n",
    "os.makedirs(datapath, exist_ok=True)\n",
    "for dirname in ('pcs', 'variances', 'cumulative_variances', \n",
    "                'mean_atoms', 'transforms', \n",
    "                os.path.join('trajectories', 'PC'),\n",
    "                'images'):\n",
    "    os.makedirs(os.path.join(datapath, dirname), exist_ok=True)"
   ]
  },
  {
   "cell_type": "markdown",
   "metadata": {},
   "source": [
    "Let's make a universe object of our trajectory."
   ]
  },
  {
   "cell_type": "code",
   "execution_count": 3,
   "metadata": {},
   "outputs": [],
   "source": [
    "u = mda.Universe(PSF, DCD)\n",
    "ag = u.select_atoms(selection)"
   ]
  },
  {
   "cell_type": "markdown",
   "metadata": {},
   "source": [
    "Let's conduct principal component analysis of the trajectory."
   ]
  },
  {
   "cell_type": "markdown",
   "metadata": {},
   "source": [
    "[pca.PCA](http://www.mdanalysis.org/mdanalysis/documentation_pages/analysis/pca.html#pca-tutorial) creates a pca object which has all of the properties that we will need to use."
   ]
  },
  {
   "cell_type": "code",
   "execution_count": 4,
   "metadata": {},
   "outputs": [
    {
     "name": "stderr",
     "output_type": "stream",
     "text": [
      "Mean Calculation Step   98/98 [100.0%]\n",
      "Step    98/98 [100.0%]\n"
     ]
    },
    {
     "data": {
      "text/plain": [
       "<MDAnalysis.analysis.pca.PCA at 0x11b89c860>"
      ]
     },
     "execution_count": 4,
     "metadata": {},
     "output_type": "execute_result"
    }
   ],
   "source": [
    "pc = pca.PCA(u, select=selection, align=True, verbose=True, step=stepsize)\n",
    "pc.run()"
   ]
  },
  {
   "cell_type": "markdown",
   "metadata": {},
   "source": [
    "The PCA object computes the eigenvectors of the corrdinate matrix in our protein universe (using numpy.linalg.eig); this calculation may take a few seconds. Let's save these principal component vectors themselves."
   ]
  },
  {
   "cell_type": "code",
   "execution_count": 5,
   "metadata": {},
   "outputs": [],
   "source": [
    "pc_pc = pc.p_components\n",
    "np.save(os.path.join(datapath, 'pcs', 'pcomponents.npy'), pc_pc)"
   ]
  },
  {
   "cell_type": "markdown",
   "metadata": {},
   "source": [
    "We should also save the variance and cumulative variance data for later analysis."
   ]
  },
  {
   "cell_type": "markdown",
   "metadata": {},
   "source": [
    "The corresponding eigenvalue to each of these eigenvectors is equivalent to that eigenvector's variance."
   ]
  },
  {
   "cell_type": "code",
   "execution_count": 6,
   "metadata": {},
   "outputs": [],
   "source": [
    "pc_vars = pc.variance\n",
    "np.save(os.path.join(datapath,'variances', 'vars.npy'), pc_vars)"
   ]
  },
  {
   "cell_type": "markdown",
   "metadata": {},
   "source": [
    "The cumulative variance of one of the prinicipal components is the variance or eigenvalue associated with that component summed with all of the preceding variances."
   ]
  },
  {
   "cell_type": "markdown",
   "metadata": {},
   "source": [
    "How much of the total variance is capture by the first `npc` PCs?"
   ]
  },
  {
   "cell_type": "code",
   "execution_count": 7,
   "metadata": {},
   "outputs": [
    {
     "data": {
      "text/plain": [
       "0.9995688529548218"
      ]
     },
     "execution_count": 7,
     "metadata": {},
     "output_type": "execute_result"
    }
   ],
   "source": [
    "pc.cumulated_variance[npc]"
   ]
  },
  {
   "cell_type": "code",
   "execution_count": 8,
   "metadata": {},
   "outputs": [
    {
     "data": {
      "text/plain": [
       "5"
      ]
     },
     "execution_count": 8,
     "metadata": {},
     "output_type": "execute_result"
    }
   ],
   "source": [
    "npc"
   ]
  },
  {
   "cell_type": "markdown",
   "metadata": {},
   "source": [
    "Save the data for later."
   ]
  },
  {
   "cell_type": "code",
   "execution_count": 9,
   "metadata": {},
   "outputs": [],
   "source": [
    "pc_cvars = pc.cumulated_variance\n",
    "np.save(os.path.join(datapath, 'cumulative_variances',\n",
    "                     'cumulativevars.npy'), pc_cvars)"
   ]
  },
  {
   "cell_type": "markdown",
   "metadata": {},
   "source": [
    "Finally, let's save the average position of the atoms."
   ]
  },
  {
   "cell_type": "code",
   "execution_count": 10,
   "metadata": {
    "scrolled": false
   },
   "outputs": [
    {
     "name": "stderr",
     "output_type": "stream",
     "text": [
      "/Users/oliver/anaconda3/envs/mda3/lib/python3.6/site-packages/MDAnalysis/coordinates/PDB.py:892: UserWarning: Found no information for attr: 'altLocs' Using default value of ' '\n",
      "  \"\".format(attrname, default))\n",
      "/Users/oliver/anaconda3/envs/mda3/lib/python3.6/site-packages/MDAnalysis/coordinates/PDB.py:892: UserWarning: Found no information for attr: 'icodes' Using default value of ' '\n",
      "  \"\".format(attrname, default))\n",
      "/Users/oliver/anaconda3/envs/mda3/lib/python3.6/site-packages/MDAnalysis/coordinates/PDB.py:892: UserWarning: Found no information for attr: 'occupancies' Using default value of '1.0'\n",
      "  \"\".format(attrname, default))\n",
      "/Users/oliver/anaconda3/envs/mda3/lib/python3.6/site-packages/MDAnalysis/coordinates/PDB.py:892: UserWarning: Found no information for attr: 'tempfactors' Using default value of '0.0'\n",
      "  \"\".format(attrname, default))\n"
     ]
    }
   ],
   "source": [
    "pc_ma = pc.mean_atoms\n",
    "pc_ma.write(os.path.join(datapath, 'mean_atoms' , 'meanatoms.pdb'))"
   ]
  },
  {
   "cell_type": "markdown",
   "metadata": {},
   "source": [
    "## Creating projections"
   ]
  },
  {
   "cell_type": "markdown",
   "metadata": {},
   "source": [
    "We can now convert our original simulation data into the principal component coordinate system to view it in a new way."
   ]
  },
  {
   "cell_type": "markdown",
   "metadata": {},
   "source": [
    "Now, we need to project the original projectory onto the principal components and store the projected data."
   ]
  },
  {
   "cell_type": "markdown",
   "metadata": {},
   "source": [
    "$Y(t)=\\sum_{i=0}^{m}((X(t)-\\overline X) \\cdot u_i)u_i+\\overline X$ where\n",
    "\n",
    "$Y(t)$ is the projected trajectory,\n",
    "\n",
    "$X(t)$ is the original trajectory,\n",
    "\n",
    "$u_i$ is the principal component $i$, and\n",
    "\n",
    "$\\overline X$ is the coordinates of the average structure."
   ]
  },
  {
   "cell_type": "markdown",
   "metadata": {},
   "source": [
    "`pca.transform()` computes the weights $w_i(t) = (X(t)-\\overline X) \\cdot u_i$ for each principal component $i$."
   ]
  },
  {
   "cell_type": "code",
   "execution_count": 11,
   "metadata": {},
   "outputs": [],
   "source": [
    "pc_transform = pc.transform(ag, n_components=npc)\n",
    "np.save(os.path.join(datapath, 'transforms', str(npc)+'components.npy'), pc_transform)"
   ]
  },
  {
   "cell_type": "markdown",
   "metadata": {},
   "source": [
    "## Analyzing Data"
   ]
  },
  {
   "cell_type": "markdown",
   "metadata": {},
   "source": [
    "First, let's load our newly projected data."
   ]
  },
  {
   "cell_type": "code",
   "execution_count": 12,
   "metadata": {},
   "outputs": [],
   "source": [
    "tpcs = np.load(os.path.join(datapath, 'transforms', \n",
    "                            str(npc)+'components.npy'))"
   ]
  },
  {
   "cell_type": "markdown",
   "metadata": {},
   "source": [
    "We want to store this data into a more usable format, a pandas DataFrame, so we need to make a list of the columns we want to have."
   ]
  },
  {
   "cell_type": "code",
   "execution_count": 13,
   "metadata": {},
   "outputs": [],
   "source": [
    "columns=[]\n",
    "for i in range(npc):\n",
    "    columns.append('PC'+str(i))"
   ]
  },
  {
   "cell_type": "markdown",
   "metadata": {},
   "source": [
    "Next, let's put our data into a DataFrame and set the index to be an indicator of time."
   ]
  },
  {
   "cell_type": "code",
   "execution_count": 14,
   "metadata": {},
   "outputs": [],
   "source": [
    "df = pd.DataFrame(tpcs, columns=columns)\n",
    "df['time']=df.index\n",
    "df = df.reset_index(drop=True)\n",
    "cols = df.columns.tolist()\n",
    "cols = cols[-1:] + cols[:-1]\n",
    "df = df[cols]\n",
    "df = df[::stepsize]"
   ]
  },
  {
   "cell_type": "markdown",
   "metadata": {},
   "source": [
    "Now, we can use seaborn's PairGrid function to create a grid of principal component graphs."
   ]
  },
  {
   "cell_type": "code",
   "execution_count": 15,
   "metadata": {},
   "outputs": [
    {
     "data": {
      "image/png": "[encoded data removed]",
      "text/plain": [
       "<matplotlib.figure.Figure at 0x11b897e80>"
      ]
     },
     "metadata": {},
     "output_type": "display_data"
    }
   ],
   "source": [
    "g = sns.PairGrid(df, hue='time', \n",
    "                 palette=reversed(sns.color_palette('Oranges_d', n_colors=len(df))))\n",
    "g.map_lower(plt.scatter, edgecolor=\"white\", marker='.')\n",
    "g.savefig(os.path.join(datapath,'images', 'PCs.pdf'))\n",
    "g.savefig(os.path.join(datapath,'images', 'PCs.png'))"
   ]
  },
  {
   "cell_type": "markdown",
   "metadata": {},
   "source": [
    "We can also look at plots of the cumulative variance to visualize our data."
   ]
  },
  {
   "cell_type": "code",
   "execution_count": 16,
   "metadata": {},
   "outputs": [],
   "source": [
    "cvars = np.load(os.path.join(datapath, 'cumulative_variances', 'cumulativevars.npy'))"
   ]
  },
  {
   "cell_type": "markdown",
   "metadata": {},
   "source": [
    "We need to create an axes object and set some labels, and then we can graph the cumulative variance."
   ]
  },
  {
   "cell_type": "code",
   "execution_count": 17,
   "metadata": {
    "scrolled": true
   },
   "outputs": [
    {
     "data": {
      "image/png": "[encoded data removed]",
      "text/plain": [
       "<matplotlib.figure.Figure at 0x12cd0c6d8>"
      ]
     },
     "metadata": {},
     "output_type": "display_data"
    }
   ],
   "source": [
    "fig = plt.figure(figsize=(4,3))\n",
    "ax = fig.add_subplot(1,1,1)\n",
    "ax.set_title('AdK PCA '+selection)\n",
    "ax.set_xlabel('component number')\n",
    "ax.set_ylabel('cumulated variance')\n",
    "ax.set_xlim(None, 20)\n",
    "ax.plot(cvars)\n",
    "ax.axhline(y=1, color='r', linestyle='--')\n",
    "ax.xaxis.set_major_locator(ticker.MaxNLocator(integer=True))"
   ]
  },
  {
   "cell_type": "markdown",
   "metadata": {},
   "source": [
    "Finally, we can save this plot."
   ]
  },
  {
   "cell_type": "code",
   "execution_count": 18,
   "metadata": {},
   "outputs": [],
   "source": [
    "ax.figure.savefig(os.path.join(datapath, 'images', 'cumulative_variances.pdf'))\n",
    "ax.figure.savefig(os.path.join(datapath, 'images', 'cumulative_variances.png'))"
   ]
  },
  {
   "cell_type": "markdown",
   "metadata": {},
   "source": [
    "## Visualizing Projections"
   ]
  },
  {
   "cell_type": "markdown",
   "metadata": {},
   "source": [
    "We want to project the original trajectory on the principal components, i.e., we want to see the motions of the protein that are contained in the PC. The first few PCs contain most of the motion so large conformational changes should be obvious in the first few projections. Smaller scale motions should be filtered out."
   ]
  },
  {
   "cell_type": "markdown",
   "metadata": {},
   "source": [
    "But first we need to finish the rest of the projection from where pca.transform leaves off."
   ]
  },
  {
   "cell_type": "markdown",
   "metadata": {},
   "source": [
    "First, let's load the data we saved."
   ]
  },
  {
   "cell_type": "code",
   "execution_count": 19,
   "metadata": {},
   "outputs": [
    {
     "name": "stderr",
     "output_type": "stream",
     "text": [
      "/Users/oliver/anaconda3/envs/mda3/lib/python3.6/site-packages/MDAnalysis/topology/PDBParser.py:301: UserWarning: PDB file contained CONECT record to TER entry. These are not included in bonds.\n",
      "  \"PDB file contained CONECT record to TER entry. \"\n"
     ]
    }
   ],
   "source": [
    "pc_components = np.load(os.path.join(datapath, 'pcs' ,'pcomponents.npy'))\n",
    "u_mean = mda.Universe(os.path.join(datapath, 'mean_atoms', 'meanatoms.pdb'))"
   ]
  },
  {
   "cell_type": "markdown",
   "metadata": {},
   "source": [
    "We also need to set the size of the projected trajectory and get some other data about our initial conditions."
   ]
  },
  {
   "cell_type": "code",
   "execution_count": 20,
   "metadata": {},
   "outputs": [],
   "source": [
    "start, stop, step = u.trajectory.check_slice_indices(None, None, 1)\n",
    "n_frames = len(range(start, stop, step))\n",
    "n_components = pc_components.shape[1]\n",
    "n_atoms = int(pc_components.shape[0]/3)"
   ]
  },
  {
   "cell_type": "markdown",
   "metadata": {},
   "source": [
    "We also need the principal component space."
   ]
  },
  {
   "cell_type": "code",
   "execution_count": 21,
   "metadata": {},
   "outputs": [],
   "source": [
    "space = np.load(os.path.join(datapath, 'transforms', str(npc)+'components.npy'))"
   ]
  },
  {
   "cell_type": "markdown",
   "metadata": {},
   "source": [
    "Next, we need to iterate over each component and for each component calculate the position of the atoms along that axis for each timestep. Then we write the new positions to a trajectory (here in DCD format). There will be one trajectory for each of the `npc` PCs."
   ]
  },
  {
   "cell_type": "code",
   "execution_count": 22,
   "metadata": {},
   "outputs": [],
   "source": [
    "components = pc_components[:, :npc]\n",
    "for component in range(components.shape[1]):\n",
    "    yc = np.zeros((n_frames, components.shape[0]))\n",
    "    for time, weights in enumerate(space):\n",
    "        for atom in range(components.shape[0]):\n",
    "            yc[time, atom] = weights[component] * components[atom, component]\n",
    "    yc = yc.reshape(n_frames, n_atoms, 3)\n",
    "\n",
    "    with mda.Writer(os.path.join(datapath, 'trajectories', 'PC', \n",
    "                                 str(component+1)+'.dcd'), \n",
    "                    n_atoms=n_atoms) as f:\n",
    "        ts = Timestep(n_atoms=n_atoms, dt=1)\n",
    "        for pos in yc:\n",
    "            ts.positions = u_mean.atoms.positions + pos\n",
    "            f.write(ts)"
   ]
  },
  {
   "cell_type": "markdown",
   "metadata": {},
   "source": [
    "The resulting trajectories show the original data filtered on the first to fifth PC."
   ]
  },
  {
   "cell_type": "markdown",
   "metadata": {},
   "source": [
    "View the trajectory, e.g., component 2\n",
    "```\n",
    "vmd PCA_tutorial/AdK/mean_atoms/meanatoms.pdb PCA_tutorial/AdK/trajectories/PC/2.dcd\n",
    "```\n",
    "(or using nglviewer TODO)"
   ]
  },
  {
   "cell_type": "code",
   "execution_count": null,
   "metadata": {},
   "outputs": [],
   "source": []
  }
 ],
 "metadata": {
  "kernelspec": {
   "display_name": "Python 3",
   "language": "python",
   "name": "python3"
  },
  "language_info": {
   "codemirror_mode": {
    "name": "ipython",
    "version": 3
   },
   "file_extension": ".py",
   "mimetype": "text/x-python",
   "name": "python",
   "nbconvert_exporter": "python",
   "pygments_lexer": "ipython3",
   "version": "3.6.4"
  }
 },
 "nbformat": 4,
 "nbformat_minor": 2
}
